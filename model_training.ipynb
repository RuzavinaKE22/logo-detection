{
 "cells": [
  {
   "cell_type": "code",
   "execution_count": null,
   "id": "38d8cac1",
   "metadata": {},
   "outputs": [],
   "source": [
    "# import os                           # Пути и директории в любой оперционной системе\n",
    "# import random                       # Случайные числа в стандартном Python\n",
    "# import pandas as pd                 # Pandas для работы с таблицами данных\n",
    "# import numpy as np\n",
    "# import matplotlib.pyplot as plt\n",
    "\n",
    "# from skimage import io, color       # Для импотра и экспорта изображений\n",
    "# import cv2                          # OpenCV\n",
    "# from PIL import Image               # Python Imaging Library\n",
    "\n",
    "# import torch\n",
    "# import torch.nn as nn               # Модуль PyTorch для слоёв нейронных сетей\n",
    "# import torch.optim as optim         # Модуль методов оптимизации из библиотеки PyTorch\n",
    "# import torch.nn.functional as F     # модуль, который хранит в себе базовые операции в нейронных сетях, например выставление отступа для входного изображения, пулинги, и т.д.\n",
    "# import torchvision                  # Библиотека готовых решений для CV\n",
    "# from torchvision import transforms  # Модуль PyTorch для предобработки изображений\n",
    "# from torch.utils.data import DataLoader, Dataset        # Полезный модуль для загрузки данных батчами\n",
    "\n",
    "# from tqdm.notebook import tqdm      # Прогресс-бар"
   ]
  }
 ],
 "metadata": {
  "kernelspec": {
   "display_name": "Python (logo_venv)",
   "language": "python",
   "name": "logo-venv"
  },
  "language_info": {
   "codemirror_mode": {
    "name": "ipython",
    "version": 3
   },
   "file_extension": ".py",
   "mimetype": "text/x-python",
   "name": "python",
   "nbconvert_exporter": "python",
   "pygments_lexer": "ipython3",
   "version": "3.10.4"
  }
 },
 "nbformat": 4,
 "nbformat_minor": 5
}
