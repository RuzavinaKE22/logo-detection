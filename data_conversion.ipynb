{
 "cells": [
  {
   "cell_type": "code",
   "execution_count": 37,
   "id": "044d73a1",
   "metadata": {},
   "outputs": [],
   "source": [
    "import shutil\n",
    "import os\n",
    "import xml.etree.ElementTree as ET\n",
    "\n",
    "import random\n",
    "from glob import glob"
   ]
  },
  {
   "cell_type": "markdown",
   "id": "cd2b88a2",
   "metadata": {},
   "source": [
    "### Преобразование разметочных данных XML в TXT"
   ]
  },
  {
   "cell_type": "code",
   "execution_count": 38,
   "id": "d87425a8",
   "metadata": {},
   "outputs": [],
   "source": [
    "dataset_path = \"data/LogoDet-3K\"\n",
    "output_img_dir = \"data/preprocessed/images\"\n",
    "output_label_dir = \"data/preprocessed/labels\""
   ]
  },
  {
   "cell_type": "code",
   "execution_count": 39,
   "id": "823ccf43",
   "metadata": {},
   "outputs": [],
   "source": [
    "os.makedirs(output_img_dir, exist_ok=True)\n",
    "os.makedirs(output_label_dir, exist_ok=True)"
   ]
  },
  {
   "cell_type": "code",
   "execution_count": 40,
   "id": "ee131098",
   "metadata": {},
   "outputs": [],
   "source": [
    "class_dict = {}\n",
    "class_id_counter = 0"
   ]
  },
  {
   "cell_type": "markdown",
   "id": "08bf321f",
   "metadata": {},
   "source": [
    "Переводим файлы XML в txt и формируем новую структуру хранения данных:\n",
    "\n",
    "data \\\n",
    "├── preprocessed \\\n",
    "│   ├── images \\\n",
    "│   │   ├── category1 \\\n",
    "│   │   │   ├── brand1_ph_1.jpg \\\n",
    "│   │   │   ├── ... \\\n",
    "│   │   │   ├── brand1_ph_n.jpg \\\n",
    "│   │   │   ├── brand2_ph_1.jpg \\\n",
    "│   │   │   ├── ... \\\n",
    "│   │   │   ├── brand2_ph_n.jpg \\\n",
    "│   │   │   └── ... \\\n",
    "│   │   └── category2 \\\n",
    "│   │       ├── brand3_ph_1.jpg \\\n",
    "│   │       ├── ... \\\n",
    "│   │       ├── brand3_ph_n.jpg \\\n",
    "│   │       ├── brand4_ph_1.jpg \\\n",
    "│   │       ├── ... \\\n",
    "│   │       ├── brand4_ph_n.jpg \\\n",
    "│   │       └── ... \\\n",
    "│   └── labels \\\n",
    "│       ├── category1 \\\n",
    "│       │   ├── brand1_ph_1.txt \\\n",
    "│       │   ├── brand1_ph_n.txt \\\n",
    "│       │   ├── brand2_ph_1.txt \\\n",
    "│       │   └── brand2_ph_n.txt \\\n",
    "│       └── category2 \\\n",
    "│           ├── brand3_ph_1.txt \\\n",
    "│           ├── brand3_ph_n.txt \\\n",
    "│           ├── brand4_ph_1.txt \\\n",
    "│           └── brand5_ph_n.txt \\\n",
    "..."
   ]
  },
  {
   "cell_type": "code",
   "execution_count": 52,
   "id": "5aa3030f",
   "metadata": {},
   "outputs": [
    {
     "name": "stdout",
     "output_type": "stream",
     "text": [
      "Бренд Alcatel-2 не найден в словаре, добавляем его.\n",
      "Бренд alpinestars-2 не найден в словаре, добавляем его.\n",
      "Бренд atari 2600-2 не найден в словаре, добавляем его.\n",
      "Бренд Baume et Mercier-2 не найден в словаре, добавляем его.\n",
      "Бренд Chipotle Mexican Grill-2 не найден в словаре, добавляем его.\n",
      "Бренд Ck Calvin Klein-2 не найден в словаре, добавляем его.\n",
      "Бренд ERKE-2 не найден в словаре, добавляем его.\n",
      "Бренд Glock-2 не найден в словаре, добавляем его.\n",
      "Бренд Harry Winston-2 не найден в словаре, добавляем его.\n",
      "Бренд Harvest Moon не найден в словаре, добавляем его.\n",
      "Бренд Heat-2 не найден в словаре, добавляем его.\n",
      "Бренд Hummel-2 не найден в словаре, добавляем его.\n",
      "Бренд Hurley-2 не найден в словаре, добавляем его.\n",
      "Бренд Isabel Maran-2 не найден в словаре, добавляем его.\n",
      "Бренд INOHERB-2 не найден в словаре, добавляем его.\n",
      "Бренд jlindeberg-2 не найден в словаре, добавляем его.\n",
      "Бренд Joma-2 не найден в словаре, добавляем его.\n",
      "Бренд Karl Kani-2 не найден в словаре, добавляем его.\n",
      "Бренд KATE SPADE-2 не найден в словаре, добавляем его.\n",
      "Бренд louis vuitton-2 не найден в словаре, добавляем его.\n",
      "Бренд meyba-2 не найден в словаре, добавляем его.\n",
      "Бренд maybach-1 не найден в словаре, добавляем его.\n",
      "Бренд moncler-2 не найден в словаре, добавляем его.\n",
      "Бренд moving comfort-2 не найден в словаре, добавляем его.\n",
      "Бренд muzak-2 не найден в словаре, добавляем его.\n",
      "Бренд nasty pig-2 не найден в словаре, добавляем его.\n",
      "Бренд naturalizer-2 не найден в словаре, добавляем его.\n",
      "Бренд new balance-2 не найден в словаре, добавляем его.\n",
      "Бренд nicole lee-2 не найден в словаре, добавляем его.\n",
      "Бренд stacy adams-2 не найден в словаре, добавляем его.\n",
      "Бренд starbury-2 не найден в словаре, добавляем его.\n",
      "Бренд superga-2 не найден в словаре, добавляем его.\n",
      "Бренд timbuk2-2 не найден в словаре, добавляем его.\n",
      "Бренд snow peak-2 не найден в словаре, добавляем его.\n",
      "Бренд triumph-2 не найден в словаре, добавляем его.\n",
      "Бренд vince camuto-2 не найден в словаре, добавляем его.\n",
      "Бренд vivobarefoot-2 не найден в словаре, добавляем его.\n",
      "Бренд whataburger-2 не найден в словаре, добавляем его.\n",
      "Бренд youngor-3 не найден в словаре, добавляем его.\n",
      "Бренд youngor-2 не найден в словаре, добавляем его.\n",
      "Бренд auxx-2 не найден в словаре, добавляем его.\n",
      "Бренд BELKIN-2 не найден в словаре, добавляем его.\n",
      "Бренд Chronoswiss-2 не найден в словаре, добавляем его.\n",
      "Бренд gome-2 не найден в словаре, добавляем его.\n",
      "Бренд gome-3 не найден в словаре, добавляем его.\n",
      "Бренд gree-2 не найден в словаре, добавляем его.\n",
      "Бренд gree-3 не найден в словаре, добавляем его.\n",
      "Бренд iPhone-2 не найден в словаре, добавляем его.\n",
      "Бренд liu gong не найден в словаре, добавляем его.\n",
      "Бренд malata-2 не найден в словаре, добавляем его.\n",
      "Бренд murco-2 не найден в словаре, добавляем его.\n",
      "Бренд nixon watches-2 не найден в словаре, добавляем его.\n",
      "Бренд Auntie Anne's-2 не найден в словаре, добавляем его.\n",
      "Бренд biostime-2 не найден в словаре, добавляем его.\n",
      "Бренд Blenz Coffee-2 не найден в словаре, добавляем его.\n",
      "Бренд chandelle не найден в словаре, добавляем его.\n",
      "Бренд chenkeming-2 не найден в словаре, добавляем его.\n",
      "Бренд Chronic Tacos-2 не найден в словаре, добавляем его.\n",
      "Бренд H. P. Bulmer-2 не найден в словаре, добавляем его.\n",
      "Бренд Honey Nut Corn Flakes не найден в словаре, добавляем его.\n",
      "Бренд Hudsons Coffee-2 не найден в словаре, добавляем его.\n",
      "Бренд kichesippi-2 не найден в словаре, добавляем его.\n",
      "Бренд luzhoulaojiao-2 не найден в словаре, добавляем его.\n",
      "Бренд luzhoulaojiao-3 не найден в словаре, добавляем его.\n",
      "Бренд new zealand natural-3 не найден в словаре, добавляем его.\n",
      "Бренд newport creamery-2 не найден в словаре, добавляем его.\n",
      "Бренд oberweis dairy-2 не найден в словаре, добавляем его.\n",
      "Бренд yonho-2 не найден в словаре, добавляем его.\n",
      "Бренд mohawk-2 не найден в словаре, добавляем его.\n",
      "Бренд music man-2 не найден в словаре, добавляем его.\n",
      "Бренд stein world-2 не найден в словаре, добавляем его.\n",
      "Бренд bauschlomb-2 не найден в словаре, добавляем его.\n",
      "Бренд longmu-2 не найден в словаре, добавляем его.\n",
      "Бренд legea-2 не найден в словаре, добавляем его.\n",
      "Бренд yuyue-2 не найден в словаре, добавляем его.\n",
      "Бренд yuyue-4 не найден в словаре, добавляем его.\n",
      "Бренд yuyue-3 не найден в словаре, добавляем его.\n",
      "Бренд apothia-2 не найден в словаре, добавляем его.\n",
      "Бренд bain de terre-2 не найден в словаре, добавляем его.\n",
      "Бренд Hancock-2 не найден в словаре, добавляем его.\n",
      "Бренд LOTOS-2 не найден в словаре, добавляем его.\n",
      "Бренд meng jie-2 не найден в словаре, добавляем его.\n",
      "Бренд miquelrius-2 не найден в словаре, добавляем его.\n",
      "Бренд mona lisa-2 не найден в словаре, добавляем его.\n",
      "Бренд mona lisa-3 не найден в словаре, добавляем его.\n",
      "Бренд nakamichi-2 не найден в словаре, добавляем его.\n",
      "Бренд nongfu spring-2 не найден в словаре, добавляем его.\n",
      "Бренд nongfu spring-3 не найден в словаре, добавляем его.\n",
      "Бренд yuhangren-2 не найден в словаре, добавляем его.\n",
      "Бренд avery dennison-2 не найден в словаре, добавляем его.\n",
      "Бренд Barex-2 не найден в словаре, добавляем его.\n",
      "Бренд BEST EXPRESS-2 не найден в словаре, добавляем его.\n",
      "Бренд BEST EXPRESS-3 не найден в словаре, добавляем его.\n",
      "Бренд Carolina-2 не найден в словаре, добавляем его.\n",
      "Бренд CHOW TAI SENG-2 не найден в словаре, добавляем его.\n",
      "Бренд Gurkha-2 не найден в словаре, добавляем его.\n",
      "Бренд Hilton Worldwide-2 не найден в словаре, добавляем его.\n",
      "Бренд Hilton Worldwide-3 не найден в словаре, добавляем его.\n",
      "Бренд Humber-2 не найден в словаре, добавляем его.\n",
      "Бренд icbc-2 не найден в словаре, добавляем его.\n",
      "Бренд icbc-3 не найден в словаре, добавляем его.\n",
      "Бренд Isla-2 не найден в словаре, добавляем его.\n",
      "Бренд millet-2 не найден в словаре, добавляем его.\n",
      "Бренд new holland-2 не найден в словаре, добавляем его.\n",
      "Бренд socar-2 не найден в словаре, добавляем его.\n",
      "Бренд southbeauty-2 не найден в словаре, добавляем его.\n",
      "Бренд southbeauty-3 не найден в словаре, добавляем его.\n",
      "Бренд taser-2 не найден в словаре, добавляем его.\n",
      "Бренд tubao-2 не найден в словаре, добавляем его.\n",
      "Бренд tubao-3 не найден в словаре, добавляем его.\n",
      "Бренд uber-2 не найден в словаре, добавляем его.\n",
      "Бренд uber-3 не найден в словаре, добавляем его.\n",
      "Бренд vaude-2 не найден в словаре, добавляем его.\n",
      "Бренд vidyo-1 не найден в словаре, добавляем его.\n",
      "Бренд veken-2 не найден в словаре, добавляем его.\n",
      "Бренд veken-3 не найден в словаре, добавляем его.\n",
      "Бренд vidyo-2 не найден в словаре, добавляем его.\n",
      "Бренд lululemon athletica-2 не найден в словаре, добавляем его.\n",
      "Бренд neil pryde-2 не найден в словаре, добавляем его.\n",
      "Бренд oakley-2 не найден в словаре, добавляем его.\n",
      "Бренд ANCAP-2 не найден в словаре, добавляем его.\n",
      "Бренд chang'an-2 не найден в словаре, добавляем его.\n",
      "Бренд chang'an-3 не найден в словаре, добавляем его.\n",
      "Бренд Cimc-2 не найден в словаре, добавляем его.\n",
      "Бренд Husqvarna-2 не найден в словаре, добавляем его.\n",
      "Бренд Hyundai-2 не найден в словаре, добавляем его.\n",
      "Бренд Isuzu-2 не найден в словаре, добавляем его.\n",
      "Бренд ITS-2 не найден в словаре, добавляем его.\n",
      "Бренд Landwind-2 не найден в словаре, добавляем его.\n",
      "Бренд Landwind-3 не найден в словаре, добавляем его.\n",
      "Бренд lexus-2 не найден в словаре, добавляем его.\n",
      "Бренд lifan-2 не найден в словаре, добавляем его.\n",
      "Бренд Magna-2 не найден в словаре, добавляем его.\n",
      "Бренд Mahindra-2 не найден в словаре, добавляем его.\n",
      "Бренд maybach-2 не найден в словаре, добавляем его.\n",
      "Бренд mitsuoka-2 не найден в словаре, добавляем его.\n",
      "Бренд yutong-2 не найден в словаре, добавляем его.\n",
      "Бренд yutong-3 не найден в словаре, добавляем его.\n"
     ]
    }
   ],
   "source": [
    "# Перебираем категории и бренды\n",
    "for category in os.listdir(dataset_path):\n",
    "    category_path = os.path.join(dataset_path, category)\n",
    "    \n",
    "    for brand in os.listdir(category_path):\n",
    "        # Если бренд ещё не добавлен в словарь, добавляем его с уникальным class_id\n",
    "        if brand not in class_dict:\n",
    "            class_dict[brand] = class_id_counter\n",
    "            class_id_counter += 1\n",
    "\n",
    "        brand_path = os.path.join(category_path, brand)\n",
    "        \n",
    "        # Перебираем все изображения и соответствующие XML файлы\n",
    "        for filename in os.listdir(brand_path):\n",
    "            if filename.endswith(\".xml\"):\n",
    "                xml_path = os.path.join(brand_path, filename)\n",
    "                image_path = os.path.join(brand_path, filename.replace(\".xml\", \".jpg\"))\n",
    "                \n",
    "                try:\n",
    "                    # Загружаем XML\n",
    "                    tree = ET.parse(xml_path)\n",
    "                    root = tree.getroot()\n",
    "\n",
    "                    # Получаем размеры изображения\n",
    "                    img_width = int(root.find(\"size/width\").text)\n",
    "                    img_height = int(root.find(\"size/height\").text)\n",
    "                    \n",
    "                    # Получаем все объекты в изображении\n",
    "                    labels = []\n",
    "                    for obj in root.findall(\"object\"):\n",
    "                        class_name = obj.find(\"name\").text.strip()  # Убираем лишние пробелы\n",
    "\n",
    "                        # Проверка на наличие бренда в словаре\n",
    "                        if class_name not in class_dict:\n",
    "                            print(f\"Бренд {class_name} не найден в словаре, добавляем его.\")\n",
    "                            class_dict[class_name] = class_id_counter\n",
    "                            class_id_counter += 1\n",
    "                        \n",
    "                        xmin = int(obj.find(\"bndbox/xmin\").text)\n",
    "                        ymin = int(obj.find(\"bndbox/ymin\").text)\n",
    "                        xmax = int(obj.find(\"bndbox/xmax\").text)\n",
    "                        ymax = int(obj.find(\"bndbox/ymax\").text)\n",
    "                        \n",
    "                        # Нормализуем координаты\n",
    "                        x_center = (xmin + xmax) / 2 / img_width\n",
    "                        y_center = (ymin + ymax) / 2 / img_height\n",
    "                        width = (xmax - xmin) / img_width\n",
    "                        height = (ymax - ymin) / img_height\n",
    "                        \n",
    "                        # Используем class_id из словаря\n",
    "                        class_id = class_dict[class_name]\n",
    "\n",
    "                        # Сохраняем в список\n",
    "                        labels.append(f\"{class_id} {x_center} {y_center} {width} {height}\")\n",
    "                    \n",
    "                    # Генерация уникальных имен файлов\n",
    "                    base_filename = f\"{brand}_ph_{filename.split('.')[0]}\"\n",
    "                    unique_image_filename = f\"{base_filename}.jpg\"\n",
    "                    unique_xml_filename = f\"{base_filename}.xml\"\n",
    "                    unique_label_filename = f\"{base_filename}.txt\"\n",
    "\n",
    "                    # Создаем подкаталоги для категории и бренда в папках images и labels\n",
    "                    category_img_dir = os.path.join(output_img_dir, category)\n",
    "                    category_label_dir = os.path.join(output_label_dir, category)\n",
    "\n",
    "                    os.makedirs(category_img_dir, exist_ok=True)\n",
    "                    os.makedirs(category_label_dir, exist_ok=True)\n",
    "\n",
    "                    # Переносим изображение в папку images\n",
    "                    dest_image_path = os.path.join(category_img_dir, unique_image_filename)\n",
    "                    shutil.copy(image_path, dest_image_path)\n",
    "                    \n",
    "                    # Записываем метки в папку labels\n",
    "                    unique_label_filepath = os.path.join(category_label_dir, unique_label_filename)\n",
    "                    with open(unique_label_filepath, \"w\") as label_file:\n",
    "                        label_file.write(\"\\n\".join(labels))  # Это записывание в файл внутри блока with\n",
    "                except Exception as e:\n",
    "                    print(f\"Ошибка при обработке файла {xml_path}: {e}\")"
   ]
  },
  {
   "cell_type": "code",
   "execution_count": 53,
   "id": "8ab7e270",
   "metadata": {},
   "outputs": [
    {
     "data": {
      "text/plain": [
       "615"
      ]
     },
     "execution_count": 53,
     "metadata": {},
     "output_type": "execute_result"
    }
   ],
   "source": [
    "class_dict['Alcatel-1']"
   ]
  },
  {
   "cell_type": "code",
   "execution_count": 54,
   "id": "c43f5a3c",
   "metadata": {},
   "outputs": [],
   "source": [
    "image_root = \"data/preprocessed/images\"\n",
    "label_root = \"data/preprocessed/labels\""
   ]
  },
  {
   "cell_type": "code",
   "execution_count": 55,
   "id": "ffbba2a6",
   "metadata": {},
   "outputs": [],
   "source": [
    "all_images = glob(os.path.join(image_root, \"*\", \"*.jpg\"))\n",
    "all_labels = glob(os.path.join(label_root, \"*\", \"*.txt\"))"
   ]
  },
  {
   "cell_type": "code",
   "execution_count": 56,
   "id": "7b0076e4",
   "metadata": {},
   "outputs": [
    {
     "name": "stdout",
     "output_type": "stream",
     "text": [
      "Изображений: 158654\n",
      "Разметок: 158654\n",
      "Пар: 158654\n"
     ]
    }
   ],
   "source": [
    "image_dict = {os.path.splitext(os.path.basename(img))[0]: img for img in all_images}\n",
    "label_dict = {os.path.splitext(os.path.basename(lbl))[0]: lbl for lbl in all_labels}\n",
    "\n",
    "common_files = list(set(image_dict.keys()) & set(label_dict.keys()))\n",
    "\n",
    "print(f\"Изображений: {len(image_dict)}\")\n",
    "print(f\"Разметок: {len(label_dict)}\")\n",
    "print(f\"Пар: {len(common_files)}\")"
   ]
  },
  {
   "cell_type": "code",
   "execution_count": 57,
   "id": "204c07a8",
   "metadata": {},
   "outputs": [],
   "source": [
    "random.shuffle(common_files)"
   ]
  },
  {
   "cell_type": "code",
   "execution_count": 58,
   "id": "cca5af1e",
   "metadata": {},
   "outputs": [],
   "source": [
    "train_split = int(0.8 * len(common_files))\n",
    "val_split = int(0.9 * len(common_files))"
   ]
  },
  {
   "cell_type": "code",
   "execution_count": 59,
   "id": "e596ac4c",
   "metadata": {},
   "outputs": [
    {
     "data": {
      "text/plain": [
       "126923"
      ]
     },
     "execution_count": 59,
     "metadata": {},
     "output_type": "execute_result"
    }
   ],
   "source": [
    "train_split"
   ]
  },
  {
   "cell_type": "code",
   "execution_count": 60,
   "id": "c13940b0",
   "metadata": {},
   "outputs": [],
   "source": [
    "train_files = common_files[:train_split]\n",
    "val_files = common_files[train_split:val_split]\n",
    "test_files = common_files[val_split:]"
   ]
  },
  {
   "cell_type": "code",
   "execution_count": 61,
   "id": "a3c9093f",
   "metadata": {},
   "outputs": [
    {
     "data": {
      "text/plain": [
       "['rfeng_ph_77',\n",
       " 'tafirol_ph_167',\n",
       " 'zendium_ph_256',\n",
       " \"rubio's fresh mexican grill_ph_80\",\n",
       " 'batman returns_ph_47',\n",
       " 'zephyrhills_ph_59',\n",
       " 'Alete_ph_38',\n",
       " 'raisin bran crunch_ph_147',\n",
       " \"Homer's Cinnamon Donut_ph_40\",\n",
       " 'Conoco_ph_96']"
      ]
     },
     "execution_count": 61,
     "metadata": {},
     "output_type": "execute_result"
    }
   ],
   "source": [
    "test_files[:10]"
   ]
  },
  {
   "cell_type": "code",
   "execution_count": 62,
   "id": "df2915d1",
   "metadata": {},
   "outputs": [
    {
     "data": {
      "text/plain": [
       "126923"
      ]
     },
     "execution_count": 62,
     "metadata": {},
     "output_type": "execute_result"
    }
   ],
   "source": [
    "len(train_files)"
   ]
  },
  {
   "cell_type": "code",
   "execution_count": 63,
   "id": "1ba26250",
   "metadata": {},
   "outputs": [
    {
     "data": {
      "text/plain": [
       "15866"
      ]
     },
     "execution_count": 63,
     "metadata": {},
     "output_type": "execute_result"
    }
   ],
   "source": [
    "len(test_files)"
   ]
  },
  {
   "cell_type": "code",
   "execution_count": 64,
   "id": "b9311341",
   "metadata": {},
   "outputs": [
    {
     "data": {
      "text/plain": [
       "15865"
      ]
     },
     "execution_count": 64,
     "metadata": {},
     "output_type": "execute_result"
    }
   ],
   "source": [
    "len(val_files)"
   ]
  },
  {
   "cell_type": "code",
   "execution_count": 65,
   "id": "4290aae9",
   "metadata": {},
   "outputs": [],
   "source": [
    "def move_files(file_list, split):\n",
    "    for file in file_list:\n",
    "        shutil.move(image_dict[file], os.path.join(f\"data/done/images/{split}\", f\"{file}.jpg\"))\n",
    "        shutil.move(label_dict[file], os.path.join(f\"data/done/labels/{split}\", f\"{file}.txt\"))"
   ]
  },
  {
   "cell_type": "code",
   "execution_count": 66,
   "id": "71c8d68b",
   "metadata": {},
   "outputs": [],
   "source": [
    "move_files(train_files, \"train\")\n",
    "move_files(val_files, \"val\")\n",
    "move_files(test_files, \"test\")"
   ]
  },
  {
   "cell_type": "markdown",
   "id": "46106e26",
   "metadata": {},
   "source": [
    "### Создаем data.yaml"
   ]
  },
  {
   "cell_type": "code",
   "execution_count": 70,
   "id": "51cbd046",
   "metadata": {},
   "outputs": [
    {
     "data": {
      "text/plain": [
       "3000"
      ]
     },
     "execution_count": 70,
     "metadata": {},
     "output_type": "execute_result"
    }
   ],
   "source": [
    "brands = sorted(class_dict.keys())\n",
    "len(brands)"
   ]
  },
  {
   "cell_type": "code",
   "execution_count": 71,
   "id": "8755858e",
   "metadata": {},
   "outputs": [],
   "source": [
    "yaml_content = f\"\"\"\n",
    "path: data/done\n",
    "train: images/train\n",
    "val: images/val\n",
    "test: images/test \n",
    "\n",
    "nc: {len(brands)} \n",
    "names: {brands}\n",
    "\"\"\"\n",
    "\n",
    "with open(\"data/done/data.yaml\", \"w\") as f:\n",
    "    f.write(yaml_content.strip())"
   ]
  },
  {
   "cell_type": "code",
   "execution_count": null,
   "id": "1a47c98e",
   "metadata": {},
   "outputs": [],
   "source": []
  }
 ],
 "metadata": {
  "kernelspec": {
   "display_name": "Python (logo_venv)",
   "language": "python",
   "name": "logo-venv"
  },
  "language_info": {
   "codemirror_mode": {
    "name": "ipython",
    "version": 3
   },
   "file_extension": ".py",
   "mimetype": "text/x-python",
   "name": "python",
   "nbconvert_exporter": "python",
   "pygments_lexer": "ipython3",
   "version": "3.10.4"
  }
 },
 "nbformat": 4,
 "nbformat_minor": 5
}
